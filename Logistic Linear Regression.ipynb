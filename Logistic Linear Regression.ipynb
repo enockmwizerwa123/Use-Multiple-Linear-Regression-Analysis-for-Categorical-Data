{
 "cells": [
  {
   "cell_type": "code",
   "execution_count": null,
   "id": "28264e40",
   "metadata": {},
   "outputs": [],
   "source": [
    "import pandas as pd\n",
    "import numpy as np\n",
    "import matplotlib.pyplot as plt\n",
    "import seaborn as sn\n",
    "from sklearn.model_selection import train_test_split\n",
    "from sklearn.linear_model import LinearRegression\n",
    "from sklearn.metrics import r2_score"
   ]
  },
  {
   "cell_type": "code",
   "execution_count": null,
   "id": "ba8f4394",
   "metadata": {},
   "outputs": [],
   "source": [
    "#importing the dataset\n",
    "Data = pd.read_csv('50_Startups.csv')"
   ]
  },
  {
   "cell_type": "code",
   "execution_count": null,
   "id": "9f6ae90a",
   "metadata": {},
   "outputs": [],
   "source": [
    "Data"
   ]
  },
  {
   "cell_type": "code",
   "execution_count": null,
   "id": "733e4942",
   "metadata": {},
   "outputs": [],
   "source": [
    "X =Data.iloc[:,:-1]\n",
    "Y =Data.iloc[:,4]\n"
   ]
  },
  {
   "cell_type": "code",
   "execution_count": null,
   "id": "a388b737",
   "metadata": {},
   "outputs": [],
   "source": [
    "#Since column \"State\" is categorical we need to convert it \n",
    "States = pd.get_dummies(X,drop_first=True)"
   ]
  },
  {
   "cell_type": "code",
   "execution_count": null,
   "id": "b139dd99",
   "metadata": {},
   "outputs": [],
   "source": [
    "# Drop states column\n",
    "X=X.drop(\"State\",axis=1)"
   ]
  },
  {
   "cell_type": "code",
   "execution_count": null,
   "id": "4dd4671a",
   "metadata": {},
   "outputs": [],
   "source": [
    "#concat the dummy variables\n",
    "X=pd.concat([X,States],axis=1)\n",
    "X"
   ]
  },
  {
   "cell_type": "code",
   "execution_count": null,
   "id": "9ee547a6",
   "metadata": {},
   "outputs": [],
   "source": [
    "# Split the dataset into training and test sets\n",
    "X_train,X_test,Y_train,Y_test = train_test_split(X, Y, test_size=0.2,random_state=0)\n",
    "\n",
    "\n",
    "\n"
   ]
  },
  {
   "cell_type": "code",
   "execution_count": null,
   "id": "dae6e3f3",
   "metadata": {},
   "outputs": [],
   "source": [
    "# fitting the Multiple Linear Regression to the Training set\n",
    "regr=LinearRegression()\n",
    "regr.fit(X_train,Y_train)"
   ]
  },
  {
   "cell_type": "code",
   "execution_count": null,
   "id": "99741bc1",
   "metadata": {},
   "outputs": [],
   "source": [
    "# Predicting the Test set results\n",
    "Y_pred = regr.predict(X_test)\n",
    "Y_pred"
   ]
  },
  {
   "cell_type": "code",
   "execution_count": null,
   "id": "a957135b",
   "metadata": {},
   "outputs": [],
   "source": [
    "Score = r2_score(Y_test,Y_pred)"
   ]
  },
  {
   "cell_type": "code",
   "execution_count": null,
   "id": "3915b826",
   "metadata": {},
   "outputs": [],
   "source": [
    "Score"
   ]
  },
  {
   "cell_type": "code",
   "execution_count": null,
   "id": "8235c7fa",
   "metadata": {},
   "outputs": [],
   "source": []
  }
 ],
 "metadata": {
  "kernelspec": {
   "display_name": "Python 3 (ipykernel)",
   "language": "python",
   "name": "python3"
  },
  "language_info": {
   "codemirror_mode": {
    "name": "ipython",
    "version": 3
   },
   "file_extension": ".py",
   "mimetype": "text/x-python",
   "name": "python",
   "nbconvert_exporter": "python",
   "pygments_lexer": "ipython3",
   "version": "3.9.12"
  }
 },
 "nbformat": 4,
 "nbformat_minor": 5
}
